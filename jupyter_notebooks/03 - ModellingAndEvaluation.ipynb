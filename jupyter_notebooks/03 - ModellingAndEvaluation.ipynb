{
 "cells": [
  {
   "cell_type": "markdown",
   "metadata": {},
   "source": [
    "# Modelling and Evaluation"
   ]
  },
  {
   "cell_type": "markdown",
   "metadata": {},
   "source": [
    "## Objectives\n",
    "\n",
    "* Answer business requirement 2:\n",
    "  * The client is interested to tell whether leaves are healthy or infected with powdery mildew."
   ]
  },
  {
   "cell_type": "markdown",
   "metadata": {},
   "source": [
    "## Inputs\n",
    "\n",
    "* inputs/cherry_leaves_dataset/cherry-leaves/test\n",
    "* inputs/cherry_leaves_dataset/cherry-leaves/train\n",
    "* inputs/cherry_leaves_dataset/cherry-leaves/validation\n",
    "* Image shape embeddings"
   ]
  },
  {
   "cell_type": "markdown",
   "metadata": {},
   "source": []
  }
 ],
 "metadata": {
  "language_info": {
   "name": "python"
  }
 },
 "nbformat": 4,
 "nbformat_minor": 2
}
